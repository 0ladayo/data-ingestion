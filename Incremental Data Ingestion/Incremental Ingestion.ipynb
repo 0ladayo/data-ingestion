{
 "cells": [
  {
   "cell_type": "markdown",
   "id": "4af91aa2",
   "metadata": {},
   "source": [
    "#### Import all the required libraries\n",
    "\n",
    "1. configparser: helps to read from the configuration file and extract the information needed to create a connection to the MySQL database<br/><br/>\n",
    "\n",
    "\n",
    "2. sqlalchemy: helps to create a connection to the MySQL database of our interest.<br/><br/>\n",
    "\n",
    "\n",
    "3. pandas: helps to read the tables in the MySQL database of our interest to a DataFrame.<br/><br/>\n",
    "\n",
    "\n",
    "4. pandas_gbq: helps to read big query tables into DataFrame and vice-versa."
   ]
  },
  {
   "cell_type": "code",
   "execution_count": 1,
   "id": "3f515604",
   "metadata": {},
   "outputs": [],
   "source": [
    "import configparser\n",
    "\n",
    "from sqlalchemy import create_engine\n",
    "\n",
    "import pandas as pd\n",
    "\n",
    "import pandas_gbq\n",
    "\n",
    "from datetime import datetime"
   ]
  },
  {
   "cell_type": "markdown",
   "id": "6902c1de",
   "metadata": {},
   "source": [
    "create an instance of ConfigParser and use the instance to read the 'configuration file.cfg' file and get the information such as hostname, port, username, dbname and password in the 'mysql_config' section needed to make a connection to the MySQL database"
   ]
  },
  {
   "cell_type": "code",
   "execution_count": 2,
   "id": "8d084ff7",
   "metadata": {},
   "outputs": [],
   "source": [
    "parser = configparser.ConfigParser()\n",
    "\n",
    "parser.read('configuration file.cfg')\n",
    "\n",
    "hostname = parser.get('mysql_config', 'hostname')\n",
    "\n",
    "port = parser.get('mysql_config', 'port')\n",
    "\n",
    "username = parser.get('mysql_config', 'username')\n",
    "\n",
    "dbname = parser.get('mysql_config', 'database')\n",
    "\n",
    "password = parser.get('mysql_config', 'password')"
   ]
  },
  {
   "cell_type": "markdown",
   "id": "352b17d3",
   "metadata": {},
   "source": [
    "read the latest_timestamp table in BigQuery into a DataFrame called latest_timestamp_bq_df\n",
    "\n",
    "In the first run of the cell below, the DataFrame will be empty because nothing has been stored in the latest_timestamp table in BigQuery. Subsequent run of the cell will have DataFrame with a single value in the orderTimestamp column."
   ]
  },
  {
   "cell_type": "code",
   "execution_count": 3,
   "id": "a3e0e0c6",
   "metadata": {},
   "outputs": [
    {
     "name": "stdout",
     "output_type": "stream",
     "text": [
      "Downloading: 100%|\u001b[32m██████████\u001b[0m|\n"
     ]
    }
   ],
   "source": [
    "query_string = 'SELECT * FROM `dummy-surveillance-project.demo.latest_timestamp` '\n",
    "\n",
    "latest_timestamp_bq_df = pandas_gbq.read_gbq(query_string, project_id = 'dummy-surveillance-project')"
   ]
  },
  {
   "cell_type": "markdown",
   "id": "93de1db1",
   "metadata": {},
   "source": [
    "the cell below will access values at index 0 of the 'orderTimestamp' column in the 'latest_timestamp_bq_df' DataFrame.\n",
    "\n",
    "However on the first run because there is no value in the 'orderTimestamp' column in the 'latest_timestamp_bq_df' DataFrame, it will result in an IndexError. To handle this, the code uses a try-except block, and assigns a default value of '1900-01-01 00:00:00' to 'latest_timestamp_value' if an IndexError occurs."
   ]
  },
  {
   "cell_type": "code",
   "execution_count": 4,
   "id": "a5ff9619",
   "metadata": {},
   "outputs": [],
   "source": [
    "try:\n",
    "    \n",
    "    latest_timestamp_value = latest_timestamp_bq_df['orderTimestamp'][0].strftime('%Y-%m-%d %H:%M:%S')\n",
    "    \n",
    "except IndexError:\n",
    "    \n",
    "    latest_timestamp_value = '1900-01-01 00:00:00'"
   ]
  },
  {
   "cell_type": "markdown",
   "id": "1064b68e",
   "metadata": {},
   "source": [
    "1. create a connection called sqlEngine to the MySQL database named 'demo'<br/><br/>\n",
    "\n",
    "\n",
    "2. read the table orders into a DataFrame named orders_mysql_df with the condition that only data records with orderTimestamp greater than the latest_timestamp should be read"
   ]
  },
  {
   "cell_type": "code",
   "execution_count": 5,
   "id": "11264a9f",
   "metadata": {},
   "outputs": [],
   "source": [
    "sqlEngine = create_engine(f'mysql://{username}:{password}@{hostname}:{port}/{dbname}')\n",
    "\n",
    "orders_mysql_df = pd.read_sql(f\"SELECT * FROM orders WHERE orderTimestamp > '{latest_timestamp_value}';\", con = sqlEngine)"
   ]
  },
  {
   "cell_type": "markdown",
   "id": "f80db536",
   "metadata": {},
   "source": [
    "1. create a BigQuery table schema called bq_table_schema which is used to serve as the data structure of the table to be created in the BigQuery <br/><br/>\n",
    "\n",
    "2. create a BigQuery table schema called bq_table_schema2 which is used to validate data structure of the data to be inserted in the latest_timestamp table in BigQuery"
   ]
  },
  {
   "cell_type": "code",
   "execution_count": 6,
   "id": "04c743f0",
   "metadata": {},
   "outputs": [],
   "source": [
    "bq_table_schema = [\n",
    "    \n",
    "    {'name':'orderId', 'type':'INTEGER'},\n",
    "    \n",
    "    {'name':'orderValue', 'type':'FLOAT'},\n",
    "    \n",
    "    {'name':'Timestamp', 'type':'TIMESTAMP'}\n",
    "    \n",
    "]\n",
    "\n",
    "bq_table_schema2 = [{'name':'Timestamp', 'type':'TIMESTAMP'}]"
   ]
  },
  {
   "cell_type": "markdown",
   "id": "089a2351",
   "metadata": {},
   "source": [
    "store the orders_mysql_df DataFrame to 'demo.orders' (demo is the dataset name and orders is the table's name to be created in BigQuery). It also checks if the table exist before and if it does, it appends the data to the existing table."
   ]
  },
  {
   "cell_type": "code",
   "execution_count": 7,
   "id": "bbc9f14b",
   "metadata": {},
   "outputs": [
    {
     "name": "stderr",
     "output_type": "stream",
     "text": [
      "100%|██████████| 1/1 [00:00<?, ?it/s]\n"
     ]
    }
   ],
   "source": [
    "orders_mysql_df.to_gbq('demo.orders', if_exists = 'append', table_schema = bq_table_schema, \n",
    "          \n",
    "          project_id = 'dummy-surveillance-project')"
   ]
  },
  {
   "cell_type": "markdown",
   "id": "ea7ef2dc",
   "metadata": {},
   "source": [
    "1. read the table orders into a DataFrame named order_Timestamp_max_mysql_df with a single value which is the maximum value in the orderTimestamp column in table orders<br/><br/> \n",
    "\n",
    "2. dispose the sqlEngine connection"
   ]
  },
  {
   "cell_type": "code",
   "execution_count": 8,
   "id": "eef20e31",
   "metadata": {},
   "outputs": [],
   "source": [
    "order_Timestamp_max_mysql_df = pd.read_sql('SELECT MAX(orderTimestamp) orderTimestamp FROM orders', con = sqlEngine)\n",
    "\n",
    "sqlEngine.dispose()"
   ]
  },
  {
   "cell_type": "markdown",
   "id": "f6dabb03",
   "metadata": {},
   "source": [
    "store the order_Timestamp_max_mysql_df DataFrame to 'demo.latest_timestamp' (demo is the dataset name and latest_timestamp is the table's name to be created in BigQuery). It also checks if the table exist before and if it does, it overwrite the table."
   ]
  },
  {
   "cell_type": "code",
   "execution_count": 9,
   "id": "9ff6b86d",
   "metadata": {},
   "outputs": [
    {
     "name": "stderr",
     "output_type": "stream",
     "text": [
      "100%|██████████| 1/1 [00:00<00:00, 460.46it/s]\n"
     ]
    }
   ],
   "source": [
    "order_Timestamp_max_mysql_df.to_gbq('demo.latest_timestamp', if_exists = 'replace', table_schema = bq_table_schema2, \n",
    "           \n",
    "           project_id = 'dummy-surveillance-project')"
   ]
  }
 ],
 "metadata": {
  "kernelspec": {
   "display_name": "Python 3 (ipykernel)",
   "language": "python",
   "name": "python3"
  },
  "language_info": {
   "codemirror_mode": {
    "name": "ipython",
    "version": 3
   },
   "file_extension": ".py",
   "mimetype": "text/x-python",
   "name": "python",
   "nbconvert_exporter": "python",
   "pygments_lexer": "ipython3",
   "version": "3.9.13"
  }
 },
 "nbformat": 4,
 "nbformat_minor": 5
}
