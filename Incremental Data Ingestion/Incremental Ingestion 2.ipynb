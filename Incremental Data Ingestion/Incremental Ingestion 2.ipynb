{
 "cells": [
  {
   "cell_type": "code",
   "execution_count": 1,
   "id": "75595d4c",
   "metadata": {},
   "outputs": [],
   "source": [
    "import configparser\n",
    "\n",
    "from sqlalchemy import create_engine\n",
    "\n",
    "import pandas as pd\n",
    "\n",
    "import os\n",
    "\n",
    "import pandas_gbq\n",
    "\n",
    "from datetime import datetime"
   ]
  },
  {
   "cell_type": "code",
   "execution_count": 2,
   "id": "93c89162",
   "metadata": {},
   "outputs": [],
   "source": [
    "os.environ['GOOGLE_APPLICATION_CREDENTIALS'] = 'dummy-surveillance-project-6915f229d012'"
   ]
  },
  {
   "cell_type": "code",
   "execution_count": 3,
   "id": "750a40db",
   "metadata": {},
   "outputs": [],
   "source": [
    "parser = configparser.ConfigParser()\n",
    "\n",
    "parser.read('configuration file.cfg')\n",
    "\n",
    "hostname = parser.get('mysql_config', 'hostname')\n",
    "\n",
    "port = parser.get('mysql_config', 'port')\n",
    "\n",
    "username = parser.get('mysql_config', 'username')\n",
    "\n",
    "dbname = parser.get('mysql_config', 'database')\n",
    "\n",
    "password = parser.get('mysql_config', 'password')"
   ]
  },
  {
   "cell_type": "code",
   "execution_count": 4,
   "id": "da807018",
   "metadata": {},
   "outputs": [
    {
     "name": "stdout",
     "output_type": "stream",
     "text": [
      "Downloading: 100%|\u001b[32m██████████\u001b[0m|\n"
     ]
    }
   ],
   "source": [
    "query_string = \"SELECT * FROM `dummy-surveillance-project.demo.orderTimestamp` \"\n",
    "\n",
    "timestamp_bq_df = pandas_gbq.read_gbq(query_string, project_id = 'dummy-surveillance-project')"
   ]
  },
  {
   "cell_type": "code",
   "execution_count": 5,
   "id": "1d101cdd",
   "metadata": {},
   "outputs": [],
   "source": [
    "try:\n",
    "    \n",
    "    latest_timestamp = timestamp_bq_df['orderTimestamp'][0].strftime('%Y-%m-%d %H:%M:%S')\n",
    "    \n",
    "except IndexError:\n",
    "    \n",
    "    latest_timestamp = '1900-01-01 00:00:00'"
   ]
  },
  {
   "cell_type": "code",
   "execution_count": 6,
   "id": "880af176",
   "metadata": {},
   "outputs": [],
   "source": [
    "sqlEngine = create_engine(f'mysql://{username}:{password}@{hostname}:{port}/{dbname}')\n",
    "\n",
    "orders_mysql_df = pd.read_sql(f\"SELECT * FROM orders WHERE orderTimestamp > '{latest_timestamp}';\", con = sqlEngine)"
   ]
  },
  {
   "cell_type": "code",
   "execution_count": 7,
   "id": "c7414550",
   "metadata": {},
   "outputs": [
    {
     "name": "stdout",
     "output_type": "stream",
     "text": [
      "Downloading: 100%|\u001b[32m██████████\u001b[0m|\n"
     ]
    }
   ],
   "source": [
    "query_string2 = \"SELECT * FROM `dummy-surveillance-project.demo.orders` \"\n",
    "\n",
    "orders_bq_df = pandas_gbq.read_gbq(query_string2, project_id = 'dummy-surveillance-project')"
   ]
  },
  {
   "cell_type": "code",
   "execution_count": 8,
   "id": "b4be5f8a",
   "metadata": {},
   "outputs": [],
   "source": [
    "bq_table_schema = [\n",
    "    \n",
    "    {'name':'orderId', 'type':'INTEGER'},\n",
    "    \n",
    "    {'name':'orderValue', 'type':'FLOAT'},\n",
    "    \n",
    "    {'name':'Timestamp', 'type':'TIMESTAMP'}\n",
    "    \n",
    "]\n",
    "\n",
    "bq_table_schema2 = [{'name':'Timestamp', 'type':'TIMESTAMP'}]"
   ]
  },
  {
   "cell_type": "code",
   "execution_count": 9,
   "id": "7cf8e758",
   "metadata": {},
   "outputs": [
    {
     "name": "stderr",
     "output_type": "stream",
     "text": [
      "100%|██████████| 1/1 [00:00<?, ?it/s]\n"
     ]
    }
   ],
   "source": [
    "if orders_bq_df.empty:\n",
    "    \n",
    "    orders_mysql_df.to_gbq('demo.orders', if_exists = 'append', table_schema = bq_table_schema,\n",
    "                        \n",
    "                        project_id = 'dummy-surveillance-project')\n",
    "    \n",
    "    \n",
    "else:\n",
    "    \n",
    "    for i in orders_mysql_df['orderId']:\n",
    "        \n",
    "        if i in orders_bq_df['orderId']:\n",
    "            \n",
    "            updated_orderValue = orders_mysql_df[orders_mysql_df['orderId']==i]['orderValue'].iloc[0]\n",
    "            \n",
    "            updated_orderTimestamp = orders_mysql_df[orders_mysql_df['orderId']==i]['orderTimestamp'].iloc[0]\n",
    "            \n",
    "            query_string3 = f\"UPDATE `dummy-surveillance-project.demo.orders` SET orderValue = {updated_orderValue}, \\\n",
    "            orderTimestamp = '{updated_orderTimestamp}' WHERE orderId = {i}\"  \n",
    "            \n",
    "            orders_bq_df = pandas_gbq.read_gbq(query_string3, project_id = 'dummy-surveillance-project')\n",
    "            \n",
    "        else:\n",
    "            \n",
    "            incremental_row_df = orders_mysql_df[orders_mysql_df['orderId']==i]\n",
    "            \n",
    "            incremental_row_df.to_gbq('demo.orders', if_exists = 'append', table_schema = bq_table_schema, \n",
    "                                      \n",
    "                                      project_id = 'dummy-surveillance-project')        "
   ]
  },
  {
   "cell_type": "code",
   "execution_count": 10,
   "id": "8494f8ed",
   "metadata": {},
   "outputs": [],
   "source": [
    "order_Timestamp_max_mysql_df = pd.read_sql('SELECT MAX(orderTimestamp) orderTimestamp FROM orders', con = sqlEngine)\n",
    "\n",
    "sqlEngine.dispose()"
   ]
  },
  {
   "cell_type": "code",
   "execution_count": 11,
   "id": "880e2f69",
   "metadata": {},
   "outputs": [
    {
     "name": "stderr",
     "output_type": "stream",
     "text": [
      "100%|██████████| 1/1 [00:00<?, ?it/s]\n"
     ]
    }
   ],
   "source": [
    "order_Timestamp_max_mysql_df.to_gbq('demo.orderTimestamp', if_exists = 'replace', table_schema = bq_table_schema2, \n",
    "           \n",
    "           project_id = 'dummy-surveillance-project')"
   ]
  }
 ],
 "metadata": {
  "kernelspec": {
   "display_name": "Python 3 (ipykernel)",
   "language": "python",
   "name": "python3"
  },
  "language_info": {
   "codemirror_mode": {
    "name": "ipython",
    "version": 3
   },
   "file_extension": ".py",
   "mimetype": "text/x-python",
   "name": "python",
   "nbconvert_exporter": "python",
   "pygments_lexer": "ipython3",
   "version": "3.9.13"
  }
 },
 "nbformat": 4,
 "nbformat_minor": 5
}
