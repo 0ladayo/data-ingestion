{
 "cells": [
  {
   "cell_type": "markdown",
   "id": "908af6e3",
   "metadata": {},
   "source": [
    "#### Import all the required libraries\n",
    "\n",
    "1. configparser: helps to read from the configuration file and get the information needed to create a connection to the MySQL Server database\n",
    "\n",
    "\n",
    "2. sqlalchemy: helps to create a connection to the MySQL Server database of our interest.\n",
    "\n",
    "\n",
    "3. pandas: helps to read the tables in the MySQL Server database of our interest to a DataFrame.\n",
    "\n",
    "\n",
    "4. pandas_gbq: helps to read big query tables into DataFrame and vice-versa."
   ]
  },
  {
   "cell_type": "code",
   "execution_count": 1,
   "id": "2db35e40",
   "metadata": {},
   "outputs": [],
   "source": [
    "import configparser\n",
    "\n",
    "from sqlalchemy import create_engine\n",
    "\n",
    "import pandas as pd\n",
    "\n",
    "import pandas_gbq"
   ]
  },
  {
   "cell_type": "markdown",
   "id": "e7c615ae",
   "metadata": {},
   "source": [
    "create an instance of ConfigParser and use the instance to read the 'configuration file.cfg' file and get the information such as hostname, port, username, dbname and password in the 'mysql_config' section needed to make a connection to the MySQL Server database"
   ]
  },
  {
   "cell_type": "code",
   "execution_count": 2,
   "id": "8f7c916d",
   "metadata": {},
   "outputs": [],
   "source": [
    "parser = configparser.ConfigParser()\n",
    "\n",
    "parser.read('configuration file.cfg')\n",
    "\n",
    "hostname = parser.get('mysql_config', 'hostname')\n",
    "\n",
    "port = parser.get('mysql_config', 'port')\n",
    "\n",
    "username = parser.get('mysql_config', \"username\")\n",
    "\n",
    "dbname = parser.get('mysql_config', 'database')\n",
    "\n",
    "password = parser.get('mysql_config', 'password')"
   ]
  },
  {
   "cell_type": "markdown",
   "id": "051d4ef6",
   "metadata": {},
   "source": [
    "1. create a connection called sqlEngine to the MySQL Server database named 'demo'\n",
    "\n",
    "\n",
    "2. read the table orders into a DataFrame named orders_mysql_df\n",
    "\n",
    "\n",
    "3. dispose the sqlEngine connection"
   ]
  },
  {
   "cell_type": "code",
   "execution_count": 3,
   "id": "77addca5",
   "metadata": {},
   "outputs": [],
   "source": [
    "sqlEngine = create_engine(f'mysql://{username}:{password}@{hostname}:{port}/{dbname}')\n",
    "\n",
    "orders_mysql_df = pd.read_sql(\"SELECT * FROM orders;\", con = sqlEngine)\n",
    "\n",
    "sqlEngine.dispose()"
   ]
  },
  {
   "cell_type": "markdown",
   "id": "a6e8e7b8",
   "metadata": {},
   "source": [
    "create a BigQuery table schema called bq_table_schema which is used to serve as the data structure of the table to be created in the BigQuery"
   ]
  },
  {
   "cell_type": "code",
   "execution_count": 4,
   "id": "473ab31c",
   "metadata": {},
   "outputs": [],
   "source": [
    "bq_table_schema = [\n",
    "    \n",
    "    {'name':'orderId', 'type':'INTEGER'},\n",
    "    \n",
    "    {'name':'orderValue', 'type':'FLOAT'},\n",
    "    \n",
    "]"
   ]
  },
  {
   "cell_type": "markdown",
   "id": "1191dd24",
   "metadata": {},
   "source": [
    "store the orders_mysql_df DataFrame to 'demo.orders' (demo is the dataset name and orders is the table's name to be created in BigQuery). It also checks if the table exist before and if it does, it overwrite the table."
   ]
  },
  {
   "cell_type": "code",
   "execution_count": 5,
   "id": "c29efe9f",
   "metadata": {},
   "outputs": [
    {
     "name": "stderr",
     "output_type": "stream",
     "text": [
      "100%|██████████| 1/1 [00:00<00:00, 602.54it/s]\n"
     ]
    }
   ],
   "source": [
    "orders_mysql_df.to_gbq('demo.orders', if_exists = 'replace', table_schema = bq_table_schema, \n",
    "          \n",
    "          project_id = 'dummy-surveillance-project')"
   ]
  }
 ],
 "metadata": {
  "kernelspec": {
   "display_name": "Python 3 (ipykernel)",
   "language": "python",
   "name": "python3"
  },
  "language_info": {
   "codemirror_mode": {
    "name": "ipython",
    "version": 3
   },
   "file_extension": ".py",
   "mimetype": "text/x-python",
   "name": "python",
   "nbconvert_exporter": "python",
   "pygments_lexer": "ipython3",
   "version": "3.9.13"
  }
 },
 "nbformat": 4,
 "nbformat_minor": 5
}
