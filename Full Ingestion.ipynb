{
 "cells": [
  {
   "cell_type": "code",
   "execution_count": 1,
   "id": "2db35e40",
   "metadata": {},
   "outputs": [],
   "source": [
    "import configparser\n",
    "\n",
    "from sqlalchemy import create_engine\n",
    "\n",
    "import pandas as pd\n",
    "\n",
    "import os\n",
    "\n",
    "import pandas_gbq"
   ]
  },
  {
   "cell_type": "code",
   "execution_count": 2,
   "id": "e986eb02",
   "metadata": {},
   "outputs": [],
   "source": [
    "os.environ['GOOGLE_APPLICATION_CREDENTIALS'] = 'dummy-surveillance-project-6915f229d012'"
   ]
  },
  {
   "cell_type": "code",
   "execution_count": 3,
   "id": "8f7c916d",
   "metadata": {},
   "outputs": [],
   "source": [
    "parser = configparser.ConfigParser()\n",
    "\n",
    "parser.read('configuration file.cfg')\n",
    "\n",
    "hostname = parser.get('mysql_config', 'hostname')\n",
    "\n",
    "port = parser.get('mysql_config', 'port')\n",
    "\n",
    "username = parser.get('mysql_config', \"username\")\n",
    "\n",
    "dbname = parser.get('mysql_config', 'database')\n",
    "\n",
    "password = parser.get('mysql_config', 'password')"
   ]
  },
  {
   "cell_type": "code",
   "execution_count": 4,
   "id": "77addca5",
   "metadata": {},
   "outputs": [],
   "source": [
    "sqlEngine = create_engine(f'mysql://{username}:{password}@{hostname}:{port}/{dbname}')\n",
    "\n",
    "orders_mysql_df = pd.read_sql(\"SELECT * FROM orders;\", con = sqlEngine)"
   ]
  },
  {
   "cell_type": "code",
   "execution_count": 5,
   "id": "473ab31c",
   "metadata": {},
   "outputs": [],
   "source": [
    "bq_table_schema = [\n",
    "    \n",
    "    {'name':'orderId', 'type':'INTEGER'},\n",
    "    \n",
    "    {'name':'orderValue', 'type':'FLOAT'},\n",
    "    \n",
    "]"
   ]
  },
  {
   "cell_type": "code",
   "execution_count": 6,
   "id": "c29efe9f",
   "metadata": {},
   "outputs": [
    {
     "name": "stderr",
     "output_type": "stream",
     "text": [
      "100%|██████████| 1/1 [00:00<?, ?it/s]\n"
     ]
    }
   ],
   "source": [
    "orders_mysql_df.to_gbq('demo.orders', if_exists = 'replace', table_schema = bq_table_schema, \n",
    "          \n",
    "          project_id = 'dummy-surveillance-project')"
   ]
  },
  {
   "cell_type": "code",
   "execution_count": null,
   "id": "46176492",
   "metadata": {},
   "outputs": [],
   "source": []
  }
 ],
 "metadata": {
  "kernelspec": {
   "display_name": "Python 3 (ipykernel)",
   "language": "python",
   "name": "python3"
  },
  "language_info": {
   "codemirror_mode": {
    "name": "ipython",
    "version": 3
   },
   "file_extension": ".py",
   "mimetype": "text/x-python",
   "name": "python",
   "nbconvert_exporter": "python",
   "pygments_lexer": "ipython3",
   "version": "3.9.13"
  }
 },
 "nbformat": 4,
 "nbformat_minor": 5
}
